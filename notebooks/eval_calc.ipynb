{
 "cells": [
  {
   "cell_type": "code",
   "execution_count": 6,
   "metadata": {},
   "outputs": [
    {
     "name": "stdout",
     "output_type": "stream",
     "text": [
      "\n",
      " NER evaluation scores:\n",
      "  strict mode, Precision=0.4444, Recall=0.4444, F1:0.4444\n",
      "   exact mode, Precision=0.5556, Recall=0.5556, F1:0.5556\n",
      " partial mode, Precision=0.7778, Recall=0.6667, F1:0.6944\n",
      "    type mode, Precision=0.8889, Recall=0.6667, F1:0.7222\n",
      "         precision  recall  f1_score  count\n",
      "strict      44.444  44.444    44.444    3.0\n",
      "exact       55.556  55.556    55.556    3.0\n",
      "partial     77.778  66.667    69.444    3.0\n",
      "type        88.889  66.667    72.222    3.0\n"
     ]
    }
   ],
   "source": [
    "import eval4ner.muc as muc\n",
    "import pandas as pd\n",
    "\n",
    "# ground truth\n",
    "grount_truths = [\n",
    "    [('PER', 'John Jones'), ('PER', 'Peter Peters'), ('LOC', 'York')],\n",
    "    [('PER', 'John Jones'), ('PER', 'Peter Peters'), ('LOC', 'York')],\n",
    "    [('PER', 'John Jones'), ('PER', 'Peter Peters'), ('LOC', 'York')]\n",
    "]\n",
    "# NER model prediction\n",
    "predictions = [\n",
    "    [('PER', 'John Jones and Peter Peters came to York')],\n",
    "    [('LOC', 'John Jones'), ('PER', 'Peters'), ('LOC', 'York')],\n",
    "    [('PER', 'John Jones'), ('PER', 'Peter Peters'), ('LOC', 'York')]\n",
    "]\n",
    "# input texts\n",
    "texts = [\n",
    "    'John Jones and Peter Peters came to York',\n",
    "    'John Jones and Peter Peters came to York',\n",
    "    'John Jones and Peter Peters came to York'\n",
    "]\n",
    "\n",
    "results = muc.evaluate_all(predictions, grount_truths * 1, texts)\n",
    "\n",
    "def print_results(results):\n",
    "    df_result = pd.DataFrame(results).T\n",
    "    df_result.iloc[:,:3] = round(df_result.iloc[:,:3]*100,3)\n",
    "    print(df_result)\n",
    "\n",
    "print_results(results)"
   ]
  },
  {
   "cell_type": "code",
   "execution_count": 11,
   "metadata": {},
   "outputs": [
    {
     "name": "stdout",
     "output_type": "stream",
     "text": [
      "\n",
      " NER evaluation scores:\n",
      "  strict mode, Precision=1.0000, Recall=0.3333, F1:0.5000\n",
      "   exact mode, Precision=1.0000, Recall=0.3333, F1:0.5000\n",
      " partial mode, Precision=1.0000, Recall=0.3333, F1:0.5000\n",
      "    type mode, Precision=1.0000, Recall=0.3333, F1:0.5000\n",
      "         precision  recall  f1_score  count\n",
      "strict       100.0  33.333      50.0    1.0\n",
      "exact        100.0  33.333      50.0    1.0\n",
      "partial      100.0  33.333      50.0    1.0\n",
      "type         100.0  33.333      50.0    1.0\n"
     ]
    }
   ],
   "source": [
    "# ground truth\n",
    "grount_truths = [\n",
    "    [('PER', 'John Jones'), ('PER', 'Peter Peters'), ('LOC', 'York')],\n",
    "]\n",
    "# NER model prediction\n",
    "predictions = [\n",
    "    [('PER', 'John Jones')]\n",
    "]\n",
    "# input texts\n",
    "texts = [\n",
    "    'John Jones and Peter Peters came to York',\n",
    "]\n",
    "\n",
    "results = muc.evaluate_all(predictions, grount_truths * 1, texts)\n",
    "print_results(results)"
   ]
  },
  {
   "cell_type": "code",
   "execution_count": 14,
   "metadata": {},
   "outputs": [
    {
     "name": "stdout",
     "output_type": "stream",
     "text": [
      "\n",
      " NER evaluation scores:\n",
      "  strict mode, Precision=1.0000, Recall=0.6667, F1:0.7500\n",
      "   exact mode, Precision=1.0000, Recall=0.6667, F1:0.7500\n",
      " partial mode, Precision=1.0000, Recall=0.6667, F1:0.7500\n",
      "    type mode, Precision=1.0000, Recall=0.6667, F1:0.7500\n",
      "         precision  recall  f1_score  count\n",
      "strict       100.0  66.667      75.0    2.0\n",
      "exact        100.0  66.667      75.0    2.0\n",
      "partial      100.0  66.667      75.0    2.0\n",
      "type         100.0  66.667      75.0    2.0\n"
     ]
    }
   ],
   "source": [
    "# ground truth\n",
    "grount_truths = [\n",
    "    [('PER', 'John Jones'), ('PER', 'Peter Peters'), ('LOC', 'York')],\n",
    "    []\n",
    "]\n",
    "# NER model prediction\n",
    "predictions = [\n",
    "    [('PER', 'John Jones')],\n",
    "    []\n",
    "]\n",
    "# input texts\n",
    "texts = [\n",
    "    'John Jones and Peter Peters came to York',\n",
    "    'John Jones and Peter Peters came to York',\n",
    "]\n",
    "\n",
    "results = muc.evaluate_all(predictions, grount_truths * 1, texts)\n",
    "print_results(results)"
   ]
  },
  {
   "cell_type": "code",
   "execution_count": null,
   "metadata": {},
   "outputs": [],
   "source": [
    "# ground truth\n",
    "grount_truths = [\n",
    "    [],\n",
    "]\n",
    "# NER model prediction\n",
    "predictions = [\n",
    "    []\n",
    "]\n",
    "# input texts\n",
    "texts = [\n",
    "    'John Jones and Peter Peters came to York',\n",
    "]\n",
    "\n",
    "results = muc.evaluate_all(predictions, grount_truths * 1, texts)\n",
    "print_results(results)"
   ]
  }
 ],
 "metadata": {
  "kernelspec": {
   "display_name": "base",
   "language": "python",
   "name": "python3"
  },
  "language_info": {
   "codemirror_mode": {
    "name": "ipython",
    "version": 3
   },
   "file_extension": ".py",
   "mimetype": "text/x-python",
   "name": "python",
   "nbconvert_exporter": "python",
   "pygments_lexer": "ipython3",
   "version": "3.1.-1"
  }
 },
 "nbformat": 4,
 "nbformat_minor": 2
}
