{
 "cells": [
  {
   "cell_type": "code",
   "execution_count": 6,
   "metadata": {},
   "outputs": [
    {
     "data": {
      "text/plain": [
       "{'zero_shot': 'Below is an instruction that describes a task, paired with an input that provides further context. Write a response that appropriately completes the request.\\n### Instruction:\\nGiven a sentence, extract \"{{entity_type}}\" entities from it by highlighting them with <mark> and </mark>. If not present, output the same sentence. No further explanation needed.\\n### Input:\\n{{input_text}}\\n### Response:\\n',\n",
       " 'few_shot': 'Below is an instruction that describes a task, paired with an input that provides further context. Write a response that appropriately completes the request.\\n### Instruction:\\nGiven a sentence, extract \"{{entity_type}}\" entities from it by highlighting them with <mark> and </mark>. If not present, output the same sentence. No further explanation needed.\\n{% for example in examples %}\\n### Input:\\n{{ example.input_text }}\\n### Response:\\n{{ example.response }}\\n{% endfor %}\\n\\n### Input:\\n{{new_input}}\\n### Response:\\n'}"
      ]
     },
     "execution_count": 6,
     "metadata": {},
     "output_type": "execute_result"
    }
   ],
   "source": [
    "import yaml\n",
    "from jinja2 import Template\n",
    "\n",
    "# Function to load the YAML file\n",
    "def load_prompt_from_yaml(file_path):\n",
    "    with open(file_path, 'r') as file:\n",
    "        prompt_dict = yaml.safe_load(file)\n",
    "    return prompt_dict\n",
    "\n",
    "# Load the prompt template from the YAML file\n",
    "filepath = '../instruction_templates/NER.yaml'\n",
    "prompt_dict = load_prompt_from_yaml(filepath)\n",
    "\n",
    "prompt_dict"
   ]
  },
  {
   "cell_type": "code",
   "execution_count": 7,
   "metadata": {},
   "outputs": [],
   "source": [
    "# ===========================\n",
    "examples = [\n",
    "    {\n",
    "        'input_text': 'glaucoma is one of the leading cause of blindness',\n",
    "        'response': '<mark>glaucoma</mark> is one of the leading cause of blindness'\n",
    "    },\n",
    "    {\n",
    "        'input_text': 'he has cataract',\n",
    "        'response': 'he has <mark>cataract</mark>'\n",
    "    }\n",
    "]\n",
    "\n",
    "new_input = 'inherited retinal disease can be more than glaucoma.'\n"
   ]
  },
  {
   "cell_type": "code",
   "execution_count": 8,
   "metadata": {},
   "outputs": [
    {
     "name": "stdout",
     "output_type": "stream",
     "text": [
      "Below is an instruction that describes a task, paired with an input that provides further context. Write a response that appropriately completes the request.\n",
      "### Instruction:\n",
      "Given a sentence, extract \"disease\" entities from it by highlighting them with <mark> and </mark>. If not present, output the same sentence. No further explanation needed.\n",
      "\n",
      "### Input:\n",
      "glaucoma is one of the leading cause of blindness\n",
      "### Response:\n",
      "<mark>glaucoma</mark> is one of the leading cause of blindness\n",
      "\n",
      "### Input:\n",
      "he has cataract\n",
      "### Response:\n",
      "he has <mark>cataract</mark>\n",
      "\n",
      "\n",
      "### Input:\n",
      "inherited retinal disease can be more than glaucoma.\n",
      "### Response:\n"
     ]
    }
   ],
   "source": [
    "# Get few-shot prompt template\n",
    "prompt_template = prompt_dict['few_shot']\n",
    "template = Template(prompt_template)\n",
    "entity_type = 'disease'\n",
    "rendered_prompt = template.render(entity_type=entity_type, examples=examples, new_input=new_input)\n",
    "print(rendered_prompt)"
   ]
  },
  {
   "cell_type": "code",
   "execution_count": null,
   "metadata": {},
   "outputs": [],
   "source": []
  }
 ],
 "metadata": {
  "kernelspec": {
   "display_name": "base",
   "language": "python",
   "name": "python3"
  },
  "language_info": {
   "codemirror_mode": {
    "name": "ipython",
    "version": 3
   },
   "file_extension": ".py",
   "mimetype": "text/x-python",
   "name": "python",
   "nbconvert_exporter": "python",
   "pygments_lexer": "ipython3",
   "version": "3.10.10"
  }
 },
 "nbformat": 4,
 "nbformat_minor": 2
}
