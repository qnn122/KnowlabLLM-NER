{
 "cells": [
  {
   "cell_type": "code",
   "execution_count": 211,
   "metadata": {},
   "outputs": [],
   "source": [
    "import requests\n",
    "from ast import literal_eval\n",
    "from transformers import AutoTokenizer\n",
    "from tqdm import tqdm\n",
    "import srsly\n",
    "import pandas as pd"
   ]
  },
  {
   "cell_type": "markdown",
   "metadata": {},
   "source": [
    "### Utility function"
   ]
  },
  {
   "cell_type": "code",
   "execution_count": 8,
   "metadata": {},
   "outputs": [
    {
     "name": "stderr",
     "output_type": "stream",
     "text": [
      "/home/quangng/miniconda3/lib/python3.10/site-packages/huggingface_hub/file_download.py:1132: FutureWarning: `resume_download` is deprecated and will be removed in version 1.0.0. Downloads always resume when possible. If you want to force a new download, use `force_download=True`.\n",
      "  warnings.warn(\n"
     ]
    }
   ],
   "source": [
    "def promtify(input_text, entity_type):\n",
    "    PROMPT=f'''Below is an instruction that describes a task, paired with an input that provides further context. Write a response that appropriately completes the request.\n",
    "\n",
    "    ### Instruction:\n",
    "    Given a sentence, extract {entity_type} entities from it by highlighting them with <mark> and </mark>. If not present, output the same sentence.\n",
    "    ### Input:\n",
    "    {input_text}\n",
    "    ### Response:\n",
    "\n",
    "    '''\n",
    "    return PROMPT\n",
    "\n",
    "def load_tokenizer(model_name=\"microsoft/BiomedNLP-BiomedBERT-base-uncased-abstract-fulltext\"):\n",
    "    tokenizer = AutoTokenizer.from_pretrained(model_name)\n",
    "    \n",
    "    # new tokens\n",
    "    new_tokens = [\"<mark>\", \"</mark>\"]\n",
    "\n",
    "    # check if the tokens are already in the vocabulary\n",
    "    new_tokens = set(new_tokens) - set(tokenizer.vocab.keys())\n",
    "\n",
    "    # add the tokens to the tokenizer vocabulary\n",
    "    tokenizer.add_tokens(list(new_tokens))\n",
    "\n",
    "    return tokenizer\n",
    "\n",
    "def get_response(text):\n",
    "    url = \"http://127.0.0.1:5000/v1/completions\"\n",
    "    headers = {\n",
    "        \"Content-Type\": \"application/json\"\n",
    "    }\n",
    "\n",
    "    data = {\n",
    "        \"prompt\": text,\n",
    "        \"max_tokens\": 200,\n",
    "        \"temperature\": 0.7,\n",
    "        \"typical_p\": 1,\n",
    "        \"seed\": 10,\n",
    "        \"return_full_text\": False,\n",
    "        \"repetition_penalty\": 1.15,\n",
    "        \"repetition_penalty_range\":1024,\n",
    "        \"guidance_scale\": 1\n",
    "    }\n",
    "\n",
    "    response = requests.post(url, headers=headers, json=data)\n",
    "\n",
    "    answer = literal_eval(response.text)['choices'][0]['text']\n",
    "    #answer = response.text\n",
    "    return answer\n",
    "\n",
    "def get_answer(text, entity_type='disease'):\n",
    "    prompt = promtify(text, entity_type)\n",
    "\n",
    "    #return literal_eval(answer)\n",
    "    return get_response(prompt)\n",
    "\n",
    "\n",
    "tokenizer = load_tokenizer()"
   ]
  },
  {
   "cell_type": "markdown",
   "metadata": {},
   "source": [
    "### Prepare data"
   ]
  },
  {
   "cell_type": "code",
   "execution_count": 162,
   "metadata": {},
   "outputs": [],
   "source": [
    "# read lines from 'datasets/NCBI-disease_test.txt'\n",
    "with open('datasets/BC5CDR-disease_test.txt', 'r') as f:\n",
    "    lines = f.readlines()"
   ]
  },
  {
   "cell_type": "code",
   "execution_count": 163,
   "metadata": {},
   "outputs": [
    {
     "data": {
      "text/plain": [
       "'The authors describe the case of a 56 - year - old woman with chronic , severe <mark>heart failure</mark> secondary to <mark>dilated cardiomyopathy</mark> and absence of significant <mark>ventricular arrhythmias</mark> who developed <mark>QT prolongation</mark> and <mark>torsade de pointes</mark> <mark>ventricular tachycardia</mark> during one cycle of intermittent low dose ( 2 . 5 mcg / kg per min ) dobutamine . \\n'"
      ]
     },
     "execution_count": 163,
     "metadata": {},
     "output_type": "execute_result"
    }
   ],
   "source": [
    "idx = 1\n",
    "\n",
    "lines[idx]"
   ]
  },
  {
   "cell_type": "code",
   "execution_count": 164,
   "metadata": {},
   "outputs": [
    {
     "data": {
      "text/plain": [
       "'The authors describe the case of a 56 - year - old woman with chronic , severe heart failure secondary to dilated cardiomyopathy and absence of significant ventricular arrhythmias who developed QT prolongation and torsade de pointes ventricular tachycardia during one cycle of intermittent low dose ( 2 . 5 mcg / kg per min ) dobutamine . \\n'"
      ]
     },
     "execution_count": 164,
     "metadata": {},
     "output_type": "execute_result"
    }
   ],
   "source": [
    "line_processed = lines[idx].replace('<mark>', '').replace('</mark>', '')\n",
    "line_processed"
   ]
  },
  {
   "cell_type": "code",
   "execution_count": 165,
   "metadata": {},
   "outputs": [
    {
     "data": {
      "text/plain": [
       "'\\n    The authors describe the case of a 56 - year - old woman with <mark>chronic</mark>, <mark>severe heart failure</mark> secondary to <mark>dilated cardiomyopathy</mark> and <mark>absence of significant ventricular arrhythmias</mark> who developed <mark>QT prolongation</mark> and <mark>torsade de pointes ventricular tachycardia</mark> during one cycle of intermittent low dose ( 2 . 5 mcg / kg per min ) dobutamine .'"
      ]
     },
     "execution_count": 165,
     "metadata": {},
     "output_type": "execute_result"
    }
   ],
   "source": [
    "ans = get_answer(line_processed)\n",
    "\n",
    "ans"
   ]
  },
  {
   "cell_type": "code",
   "execution_count": 166,
   "metadata": {},
   "outputs": [
    {
     "data": {
      "text/plain": [
       "'The authors describe the case of a 56 - year - old woman with <mark>chronic</mark>, <mark>severe heart failure</mark> secondary to <mark>dilated cardiomyopathy</mark> and <mark>absence of significant ventricular arrhythmias</mark> who developed <mark>QT prolongation</mark> and <mark>torsade de pointes ventricular tachycardia</mark> during one cycle of intermittent low dose ( 2 . 5 mcg / kg per min ) dobutamine .'"
      ]
     },
     "execution_count": 166,
     "metadata": {},
     "output_type": "execute_result"
    }
   ],
   "source": [
    "ans.strip()"
   ]
  },
  {
   "cell_type": "code",
   "execution_count": 167,
   "metadata": {},
   "outputs": [],
   "source": [
    "ans = get_answer(line_processed)\n"
   ]
  },
  {
   "cell_type": "code",
   "execution_count": 168,
   "metadata": {},
   "outputs": [],
   "source": [
    "# Predict\n",
    "pred_rows = []\n",
    "for line in lines:\n",
    "    line_processed = line.replace('<mark>', '').replace('</mark>', '')"
   ]
  },
  {
   "cell_type": "code",
   "execution_count": null,
   "metadata": {},
   "outputs": [],
   "source": [
    "line = lines[10]\n",
    "\n",
    "# Eval based on BIO tagging\n",
    "entity_type_short = 'DIS'\n",
    "\n",
    "# convert entity between <mark> and </mark> to BIO tagging\n",
    "tokens = tokenizer.tokenize(line)"
   ]
  },
  {
   "cell_type": "code",
   "execution_count": 2,
   "metadata": {},
   "outputs": [],
   "source": [
    "# token next to <mark> becomes B-<entity_type_short>\n",
    "# tokens from B-<entity_type_short> to one before </mark> becomes I-<entity_type_short>\n",
    "# other tokens are O\n",
    "# remore <mark> and </mark> from tokens \n",
    "def get_bio_tagging(tokens, entity_type_short='DIS'):\n",
    "    tags = ['O'] * len(tokens)\n",
    "\n",
    "    # mark <mark> and </mark> tokens as 'MS' and 'ME' in the bio_tagging\n",
    "    tags = ['MS' if token == '<mark>' else 'ME' if token == '</mark>' else tag for (tag, token) in zip(tags, tokens)]\n",
    "\n",
    "    i = 0\n",
    "    n = len(tags)\n",
    "    \n",
    "    while i < n:\n",
    "        if tags[i] == 'MS':\n",
    "            # Start from the next token after 'MS'\n",
    "            start = i + 1\n",
    "            while start < n and tags[start] != 'ME':\n",
    "                start += 1\n",
    "            \n",
    "            # Now 'start' should be at 'ME' or out of bounds\n",
    "            if start < n and tags[start] == 'ME':\n",
    "                if start - i == 2:\n",
    "                    # Only one token between 'MS' and 'ME'\n",
    "                    tags[i + 1] = 'B' + '-' + entity_type_short\n",
    "                else:\n",
    "                    # More than one token between 'MS' and 'ME'\n",
    "                    tags[i + 1] = 'B' + '-' + entity_type_short\n",
    "                    for j in range(i + 2, start):\n",
    "                        tags[j] = 'I' + '-' + entity_type_short\n",
    "            i = start # Continue from the end of this segment\n",
    "        else:\n",
    "            i += 1\n",
    "\n",
    "    # remove all 'MS' and 'ME' tokens\n",
    "    tags = [tag for tag in tags if tag not in ['MS', 'ME']]\n",
    "    \n",
    "    return tags\n"
   ]
  },
  {
   "cell_type": "code",
   "execution_count": 170,
   "metadata": {},
   "outputs": [
    {
     "name": "stdout",
     "output_type": "stream",
     "text": [
      "['risk', 'of', 'transient', '<mark>', 'hyper', '##amm', '##one', '##mic', 'encephalopathy', '</mark>', 'in', '<mark>', 'cancer', '</mark>', 'patients', 'who', 'received', 'continuous', 'infusion', 'of', '5', '-', 'fluorouracil', 'with', 'the', 'complication', 'of', '<mark>', 'dehydration', '</mark>', 'and', '<mark>', 'infection', '</mark>', '.']\n"
     ]
    }
   ],
   "source": [
    "print(tokens)"
   ]
  },
  {
   "cell_type": "code",
   "execution_count": 171,
   "metadata": {},
   "outputs": [
    {
     "data": {
      "text/plain": [
       "35"
      ]
     },
     "execution_count": 171,
     "metadata": {},
     "output_type": "execute_result"
    }
   ],
   "source": [
    "len(tokens)"
   ]
  },
  {
   "cell_type": "code",
   "execution_count": 172,
   "metadata": {},
   "outputs": [
    {
     "name": "stdout",
     "output_type": "stream",
     "text": [
      "['O', 'O', 'O', 'B-DIS', 'I-DIS', 'I-DIS', 'I-DIS', 'I-DIS', 'O', 'B-DIS', 'O', 'O', 'O', 'O', 'O', 'O', 'O', 'O', 'O', 'O', 'O', 'O', 'O', 'B-DIS', 'O', 'B-DIS', 'O']\n"
     ]
    }
   ],
   "source": [
    "bio_tags = get_bio_tagging(tokens, entity_type_short)\n",
    "print(bio_tags)"
   ]
  },
  {
   "cell_type": "code",
   "execution_count": 173,
   "metadata": {},
   "outputs": [
    {
     "data": {
      "text/plain": [
       "27"
      ]
     },
     "execution_count": 173,
     "metadata": {},
     "output_type": "execute_result"
    }
   ],
   "source": [
    "len(bio_tags)"
   ]
  },
  {
   "cell_type": "code",
   "execution_count": 174,
   "metadata": {},
   "outputs": [
    {
     "name": "stdout",
     "output_type": "stream",
     "text": [
      "0 |  risk | O\n",
      "1 |  of | O\n",
      "2 |  transient | O\n",
      "3 |  hyper | B-DIS\n",
      "4 |  ##amm | I-DIS\n",
      "5 |  ##one | I-DIS\n",
      "6 |  ##mic | I-DIS\n",
      "7 |  encephalopathy | I-DIS\n",
      "8 |  in | O\n",
      "9 |  cancer | B-DIS\n",
      "10 |  patients | O\n",
      "11 |  who | O\n",
      "12 |  received | O\n",
      "13 |  continuous | O\n",
      "14 |  infusion | O\n",
      "15 |  of | O\n",
      "16 |  5 | O\n",
      "17 |  - | O\n",
      "18 |  fluorouracil | O\n",
      "19 |  with | O\n",
      "20 |  the | O\n",
      "21 |  complication | O\n",
      "22 |  of | O\n",
      "23 |  dehydration | B-DIS\n",
      "24 |  and | O\n",
      "25 |  infection | B-DIS\n",
      "26 |  . | O\n"
     ]
    }
   ],
   "source": [
    "tokens_processed = [token for token in tokens if token not in ['<mark>', '</mark>']]  \n",
    "\n",
    "for i, (token, bio_tag) in enumerate(zip(tokens_processed, bio_tags)):\n",
    "    print(f'{i} |  {token} | {bio_tag}')"
   ]
  },
  {
   "cell_type": "code",
   "execution_count": 175,
   "metadata": {},
   "outputs": [],
   "source": [
    "y_true = []\n",
    "for line in lines:\n",
    "    tokens = tokenizer.tokenize(line)\n",
    "    bio_tags = get_bio_tagging(tokens, entity_type_short='DIS')\n",
    "    y_true.append(bio_tags)"
   ]
  },
  {
   "cell_type": "code",
   "execution_count": 176,
   "metadata": {},
   "outputs": [
    {
     "name": "stdout",
     "output_type": "stream",
     "text": [
      "['O', 'O', 'O', 'O', 'O', 'O', 'O', 'O', 'O', 'O', 'O', 'O', 'O', 'O', 'O', 'O', 'O', 'B-DIS', 'I-DIS', 'O', 'O', 'B-DIS', 'I-DIS', 'O', 'O', 'O', 'O', 'B-DIS', 'I-DIS', 'O', 'O', 'B-DIS', 'I-DIS', 'O', 'B-DIS', 'I-DIS', 'I-DIS', 'I-DIS', 'I-DIS', 'B-DIS', 'I-DIS', 'O', 'O', 'O', 'O', 'O', 'O', 'O', 'O', 'O', 'O', 'O', 'O', 'O', 'O', 'O', 'O', 'O', 'O', 'O', 'O', 'O']\n"
     ]
    }
   ],
   "source": [
    "print(y_true[1])"
   ]
  },
  {
   "cell_type": "markdown",
   "metadata": {},
   "source": [
    "### Predicting"
   ]
  },
  {
   "cell_type": "code",
   "execution_count": 177,
   "metadata": {},
   "outputs": [
    {
     "name": "stderr",
     "output_type": "stream",
     "text": [
      "100%|██████████| 4797/4797 [1:38:36<00:00,  1.23s/it]  \n"
     ]
    }
   ],
   "source": [
    "lines_pred = []\n",
    "\n",
    "for line in tqdm(lines):\n",
    "    line_processed = line.replace('<mark>', '').replace('</mark>', '')\n",
    "    try:\n",
    "        ans = get_answer(line_processed)\n",
    "    except SyntaxError:\n",
    "        ans = 'ERROR: SyntaxError'\n",
    "    lines_pred.append(ans.strip())"
   ]
  },
  {
   "cell_type": "code",
   "execution_count": 133,
   "metadata": {},
   "outputs": [
    {
     "data": {
      "text/plain": [
       "'Occasional missense mutations in ATM were also found in tumour DNA from patients with B - cell non - Hodgkins lymphomas ( B - NHL ) and a B - NHL cell line . \\n'"
      ]
     },
     "execution_count": 133,
     "metadata": {},
     "output_type": "execute_result"
    }
   ],
   "source": [
    "line_processed"
   ]
  },
  {
   "cell_type": "code",
   "execution_count": 134,
   "metadata": {},
   "outputs": [],
   "source": [
    "ans = get_answer(line_processed)"
   ]
  },
  {
   "cell_type": "code",
   "execution_count": 136,
   "metadata": {},
   "outputs": [
    {
     "data": {
      "text/plain": [
       "'Internal Server Error'"
      ]
     },
     "execution_count": 136,
     "metadata": {},
     "output_type": "execute_result"
    }
   ],
   "source": [
    "ans"
   ]
  },
  {
   "cell_type": "code",
   "execution_count": 141,
   "metadata": {},
   "outputs": [
    {
     "data": {
      "text/plain": [
       "['Clustering of missense mutations in the <mark>ataxia - telangiectasia</mark> gene in a sporadic <mark>T - cell leukaemia</mark> .',\n",
       " 'Ataxia - telangiectasia (<mark>A - T</mark>) is a recessive multi - system disorder caused by mutations in the ATM gene at 11q22 - q23 (ref . 3).',\n",
       " 'The risk of <mark>cancer</mark> , especially <mark>lymphoid neoplasias</mark> , is substantially elevated in A - T patients and has long been associated with chromosomal instability .',\n",
       " 'By analysing <mark>tumour DNA</mark> from patients with <mark>sporadic T - cell prolymphocytic leukaemia</mark> (<mark>T - PLL</mark>) , a rare clonal malignancy with similarities to a mature <mark>T - cell leukaemia</mark> seen in A - T , we demonstrate a high frequency of <mark>ATM mutations</mark> in <mark>T - PLL</mark> .',\n",
       " 'In marked contrast to the ATM mutation pattern in <mark>A - T</mark> , the most frequent nucleotide changes in this leukaemia were missense mutations .',\n",
       " 'These clustered in the region corresponding to the kinase domain , which is highly conserved in <mark>ATM</mark> - related proteins in mouse , yeast and Drosophila .',\n",
       " 'The resulting amino - acid substitutions are predicted to interfere with <mark>ATP</mark> binding or substrate recognition .',\n",
       " 'Two of seventeen mutated T - PLL samples had a previously reported <mark>A - T</mark> allele .',\n",
       " 'In contrast , no mutations were detected in the <mark>p53</mark> gene , suggesting that this tumour suppressor is not frequently altered in this leukaemia .',\n",
       " 'Occasional missense mutations in <mark>ATM</mark> were also found in tumour DNA from patients with <mark>B-cell non-Hodgkin lymphomas</mark> (<mark>B-NHL</mark>) and a <mark>B-NHL cell line</mark>.']"
      ]
     },
     "execution_count": 141,
     "metadata": {},
     "output_type": "execute_result"
    }
   ],
   "source": [
    "lines_pred"
   ]
  },
  {
   "cell_type": "code",
   "execution_count": 178,
   "metadata": {},
   "outputs": [],
   "source": [
    "y_preds = []\n",
    "for line in lines_pred:\n",
    "    tokens = tokenizer.tokenize(line)\n",
    "    bio_tags = get_bio_tagging(tokens, entity_type_short='DIS')\n",
    "    y_preds.append(bio_tags)"
   ]
  },
  {
   "cell_type": "code",
   "execution_count": 181,
   "metadata": {},
   "outputs": [
    {
     "name": "stdout",
     "output_type": "stream",
     "text": [
      "['O', 'O', 'O', 'O', 'O', 'O', 'O', 'O', 'O', 'O', 'O', 'O', 'O', 'O', 'O', 'O', 'O', 'O', 'O', 'O', 'O', 'O', 'O', 'O', 'O', 'O', 'O', 'O', 'O', 'O', 'O', 'O', 'O', 'O', 'O', 'O', 'O', 'O', 'O', 'O', 'O', 'O', 'O', 'O', 'O', 'O', 'O', 'O', 'O', 'O', 'O', 'O', 'O', 'O', 'O', 'O']\n",
      "['O', 'O', 'O', 'O', 'O', 'O', 'O', 'O', 'O', 'O', 'O', 'O', 'O', 'O', 'B-DIS', 'O', 'B-DIS', 'I-DIS', 'I-DIS', 'O', 'O', 'B-DIS', 'I-DIS', 'O', 'B-DIS', 'I-DIS', 'I-DIS', 'I-DIS', 'I-DIS', 'O', 'O', 'B-DIS', 'I-DIS', 'O', 'B-DIS', 'I-DIS', 'I-DIS', 'I-DIS', 'I-DIS', 'I-DIS', 'I-DIS', 'O', 'O', 'O', 'O', 'O', 'O', 'O', 'O', 'O', 'O', 'O', 'O', 'O', 'O', 'O', 'O', 'O', 'O', 'O', 'O', 'O']\n",
      "['O', 'O', 'O', 'B-DIS', 'I-DIS', 'I-DIS', 'I-DIS', 'I-DIS', 'O', 'O', 'O', 'O', 'O', 'O', 'O', 'O', 'O', 'O', 'O', 'O', 'O', 'O', 'O', 'O', 'O', 'O', 'O', 'O', 'O', 'O', 'O', 'O', 'O', 'O', 'O', 'O', 'O', 'O', 'O']\n",
      "['O', 'O', 'O', 'O', 'O', 'O', 'O', 'O', 'B-DIS', 'I-DIS', 'I-DIS', 'O', 'O', 'O']\n",
      "['O', 'O', 'O', 'O', 'O', 'O', 'O', 'B-DIS', 'I-DIS', 'I-DIS', 'O']\n",
      "['O', 'O', 'O', 'O', 'O', 'O', 'O', 'O', 'O', 'O', 'O', 'O', 'O', 'O', 'O', 'O', 'O', 'O', 'O', 'O', 'O', 'O', 'O', 'O', 'O', 'O', 'O', 'O', 'O', 'O', 'O', 'O', 'O', 'O', 'O', 'O', 'O', 'O', 'O', 'O', 'O', 'O']\n",
      "['O', 'O', 'O', 'O', 'O', 'O', 'O', 'O', 'O', 'O', 'O', 'O', 'B-DIS', 'I-DIS', 'I-DIS', 'I-DIS', 'O', 'O', 'O', 'O', 'O', 'O', 'O', 'O', 'O', 'O', 'O', 'O', 'O', 'O', 'O', 'O', 'O', 'O', 'O']\n",
      "['O', 'O', 'O', 'O', 'O', 'O', 'O', 'O', 'O', 'O', 'O', 'O', 'B-DIS', 'I-DIS', 'O', 'O', 'O', 'O', 'O', 'B-DIS', 'O', 'O', 'O', 'O', 'O', 'O', 'O', 'B-DIS', 'I-DIS', 'I-DIS', 'I-DIS', 'I-DIS', 'O', 'O', 'O', 'O', 'O', 'O', 'O', 'O', 'O', 'O', 'O', 'O', 'O', 'O', 'O', 'O', 'O', 'O', 'O', 'O', 'O', 'O', 'O', 'O', 'O', 'B-DIS', 'I-DIS', 'I-DIS', 'I-DIS', 'I-DIS', 'O', 'O', 'O', 'O']\n",
      "['O', 'O', 'O', 'O', 'O', 'O', 'O', 'O', 'O', 'O', 'O', 'O', 'O', 'O', 'O', 'O', 'O', 'O', 'O', 'O', 'O', 'O', 'O', 'O', 'B-DIS', 'I-DIS', 'O', 'O', 'O', 'O']\n",
      "['O', 'O', 'O', 'O', 'O', 'O', 'O', 'O', 'O', 'O', 'O', 'O', 'O', 'O', 'O', 'O', 'O', 'O', 'O', 'B-DIS', 'O']\n"
     ]
    }
   ],
   "source": [
    "for y in y_preds[:10]:\n",
    "    print(y)\n"
   ]
  },
  {
   "cell_type": "code",
   "execution_count": 156,
   "metadata": {},
   "outputs": [],
   "source": [
    "import srsly"
   ]
  },
  {
   "cell_type": "markdown",
   "metadata": {},
   "source": [
    "### Evaluation"
   ]
  },
  {
   "cell_type": "code",
   "execution_count": 123,
   "metadata": {},
   "outputs": [],
   "source": [
    "# https://github.com/mdadda/nerval\n",
    "from nerval import crm"
   ]
  },
  {
   "cell_type": "code",
   "execution_count": 179,
   "metadata": {},
   "outputs": [
    {
     "name": "stdout",
     "output_type": "stream",
     "text": [
      "True Entities: 4422\n",
      "Pred Entities: 8158 \n",
      "\n",
      "True Entities with 3 or more tags: 1139\n",
      "Pred Entities with 3 or more tags: 2992 \n",
      "\n",
      "True positives:  1606\n",
      "False positives (true = 'O'):  6387\n",
      "False positives (true <> pred):  165\n",
      "ToT False positives:  6552\n",
      "False negatives:  2651 \n",
      "\n",
      "              precision  recall  f1_score  true_entities  pred_entities\n",
      "DIS                0.20    0.36      0.26       4,422.00       7,993.00\n",
      "DIS__              0.00    0.00      0.00           0.00         165.00\n",
      "micro_avg          0.20    0.36      0.26       4,422.00       8,158.00\n",
      "macro_avg          0.10    0.18      0.13       4,422.00       8,158.00\n",
      "weighted_avg       0.20    0.36      0.26       4,422.00       8,158.00\n"
     ]
    }
   ],
   "source": [
    "cr, cm, cm_labels = crm(y_true, y_preds, scheme='BIO')\n",
    "print(cr)"
   ]
  },
  {
   "cell_type": "code",
   "execution_count": 157,
   "metadata": {},
   "outputs": [
    {
     "data": {
      "text/plain": [
       "array([[ 359,   57,  541],\n",
       "       [   0,    0,    0],\n",
       "       [1286,    0,    0]])"
      ]
     },
     "execution_count": 157,
     "metadata": {},
     "output_type": "execute_result"
    }
   ],
   "source": [
    "cm"
   ]
  },
  {
   "cell_type": "code",
   "execution_count": 158,
   "metadata": {},
   "outputs": [
    {
     "data": {
      "text/html": [
       "<div>\n",
       "<style scoped>\n",
       "    .dataframe tbody tr th:only-of-type {\n",
       "        vertical-align: middle;\n",
       "    }\n",
       "\n",
       "    .dataframe tbody tr th {\n",
       "        vertical-align: top;\n",
       "    }\n",
       "\n",
       "    .dataframe thead th {\n",
       "        text-align: right;\n",
       "    }\n",
       "</style>\n",
       "<table border=\"1\" class=\"dataframe\">\n",
       "  <thead>\n",
       "    <tr style=\"text-align: right;\">\n",
       "      <th></th>\n",
       "      <th>precision</th>\n",
       "      <th>recall</th>\n",
       "      <th>f1_score</th>\n",
       "      <th>true_entities</th>\n",
       "      <th>pred_entities</th>\n",
       "    </tr>\n",
       "  </thead>\n",
       "  <tbody>\n",
       "    <tr>\n",
       "      <th>DIS</th>\n",
       "      <td>0.22</td>\n",
       "      <td>0.38</td>\n",
       "      <td>0.28</td>\n",
       "      <td>957.00</td>\n",
       "      <td>1,645.00</td>\n",
       "    </tr>\n",
       "    <tr>\n",
       "      <th>DIS__</th>\n",
       "      <td>0.00</td>\n",
       "      <td>0.00</td>\n",
       "      <td>0.00</td>\n",
       "      <td>0.00</td>\n",
       "      <td>57.00</td>\n",
       "    </tr>\n",
       "    <tr>\n",
       "      <th>micro_avg</th>\n",
       "      <td>0.21</td>\n",
       "      <td>0.38</td>\n",
       "      <td>0.27</td>\n",
       "      <td>957.00</td>\n",
       "      <td>1,702.00</td>\n",
       "    </tr>\n",
       "    <tr>\n",
       "      <th>macro_avg</th>\n",
       "      <td>0.11</td>\n",
       "      <td>0.19</td>\n",
       "      <td>0.14</td>\n",
       "      <td>957.00</td>\n",
       "      <td>1,702.00</td>\n",
       "    </tr>\n",
       "    <tr>\n",
       "      <th>weighted_avg</th>\n",
       "      <td>0.22</td>\n",
       "      <td>0.38</td>\n",
       "      <td>0.28</td>\n",
       "      <td>957.00</td>\n",
       "      <td>1,702.00</td>\n",
       "    </tr>\n",
       "  </tbody>\n",
       "</table>\n",
       "</div>"
      ],
      "text/plain": [
       "              precision  recall  f1_score  true_entities  pred_entities\n",
       "DIS                0.22    0.38      0.28         957.00       1,645.00\n",
       "DIS__              0.00    0.00      0.00           0.00          57.00\n",
       "micro_avg          0.21    0.38      0.27         957.00       1,702.00\n",
       "macro_avg          0.11    0.19      0.14         957.00       1,702.00\n",
       "weighted_avg       0.22    0.38      0.28         957.00       1,702.00"
      ]
     },
     "execution_count": 158,
     "metadata": {},
     "output_type": "execute_result"
    }
   ],
   "source": [
    "cr"
   ]
  },
  {
   "cell_type": "code",
   "execution_count": 159,
   "metadata": {},
   "outputs": [],
   "source": [
    "import os\n",
    "import srsly"
   ]
  },
  {
   "cell_type": "code",
   "execution_count": 180,
   "metadata": {},
   "outputs": [],
   "source": [
    "output_dir = 'results/mixtral_4bit'\n",
    "dataset = 'bc5cdr_disease'\n",
    "\n",
    "cr.to_csv(os.path.join(output_dir, dataset + '_cr.csv'))\n",
    "srsly.write_jsonl(os.path.join(output_dir, dataset + '_y_preds.jsonl'), y_preds)"
   ]
  },
  {
   "cell_type": "markdown",
   "metadata": {},
   "source": [
    "### Partial Eval"
   ]
  },
  {
   "cell_type": "code",
   "execution_count": null,
   "metadata": {},
   "outputs": [],
   "source": [
    "'''\n",
    "https://pypi.org/project/eval4ner/\n",
    "'''"
   ]
  },
  {
   "cell_type": "code",
   "execution_count": 3,
   "metadata": {},
   "outputs": [],
   "source": [
    "text = 'John Jones and Peter Peters came to York'\n",
    "tokens = ['John', 'Jones', 'and', 'Peter', 'Peters', 'came', 'to', 'York']\n",
    "tokens_bio = ['B-PER', 'I-PER', 'O', 'B-PER', 'I-PER', 'O', 'O', 'B-LOC']\n",
    "\n",
    "gt = [('PER', 'John Jones'), ('PER', 'Peter Peters'), ('LOC', 'York')]\n",
    "preds = [('PER', 'John Jones'), ('PER', 'Peter Peters'), ('LOC', 'York')]"
   ]
  },
  {
   "cell_type": "code",
   "execution_count": 14,
   "metadata": {},
   "outputs": [],
   "source": [
    "def bio_to_entities(tokens, tokens_bio):\n",
    "    entities, entity, label = [], [], None\n",
    "    for token, bio in zip(tokens, tokens_bio):\n",
    "        if bio.startswith('B-'):\n",
    "            if entity: entities.append((label, ' '.join(entity)))\n",
    "            entity, label = [token], bio[2:]\n",
    "        elif bio.startswith('I-') and label:\n",
    "            entity.append(token)\n",
    "        else:\n",
    "            if entity: entities.append((label, ' '.join(entity)))\n",
    "            entity, label = [], None\n",
    "    if entity: entities.append((label, ' '.join(entity)))\n",
    "    return entities"
   ]
  },
  {
   "cell_type": "code",
   "execution_count": 5,
   "metadata": {},
   "outputs": [
    {
     "data": {
      "text/plain": [
       "[('PER', 'John Jones'), ('PER', 'Peter Peters'), ('LOC', 'York')]"
      ]
     },
     "execution_count": 5,
     "metadata": {},
     "output_type": "execute_result"
    }
   ],
   "source": [
    "gt = bio_to_entities(tokens, tokens_bio)\n",
    "gt"
   ]
  },
  {
   "cell_type": "code",
   "execution_count": null,
   "metadata": {},
   "outputs": [],
   "source": []
  },
  {
   "cell_type": "code",
   "execution_count": 111,
   "metadata": {},
   "outputs": [],
   "source": [
    "import eval4ner.muc as muc\n",
    "import os\n"
   ]
  },
  {
   "cell_type": "code",
   "execution_count": 159,
   "metadata": {},
   "outputs": [],
   "source": [
    "dataset = 'NLMGene'\n",
    "model_name = 'mixtral_4bit'"
   ]
  },
  {
   "cell_type": "code",
   "execution_count": 160,
   "metadata": {},
   "outputs": [],
   "source": [
    "# read lines from 'datasets/NCBI-disease_test.txt'\n",
    "with open(f'datasets/{dataset}_test.txt', 'r') as f:\n",
    "    lines = f.readlines()"
   ]
  },
  {
   "cell_type": "code",
   "execution_count": 161,
   "metadata": {},
   "outputs": [
    {
     "data": {
      "text/plain": [
       "1128"
      ]
     },
     "execution_count": 161,
     "metadata": {},
     "output_type": "execute_result"
    }
   ],
   "source": [
    "lines_processed = [l.replace('<mark>', '').replace('</mark>', '') for l in lines]\n",
    "len(lines_processed)"
   ]
  },
  {
   "cell_type": "code",
   "execution_count": 162,
   "metadata": {},
   "outputs": [],
   "source": [
    "y_true = []\n",
    "for line in lines:\n",
    "    tokens = tokenizer.tokenize(line)\n",
    "    bio_tags = get_bio_tagging(tokens, entity_type_short='DIS')\n",
    "    y_true.append(bio_tags)"
   ]
  },
  {
   "cell_type": "code",
   "execution_count": 163,
   "metadata": {},
   "outputs": [
    {
     "data": {
      "text/plain": [
       "1128"
      ]
     },
     "execution_count": 163,
     "metadata": {},
     "output_type": "execute_result"
    }
   ],
   "source": [
    "preds_filepath = f'results/{model_name}/{dataset}_test_y_preds.jsonl'\n",
    "y_preds = [y for y in srsly.read_jsonl(preds_filepath)]\n",
    "len(y_preds)"
   ]
  },
  {
   "cell_type": "code",
   "execution_count": 164,
   "metadata": {},
   "outputs": [],
   "source": [
    "y_true_ent = [y for y in map(bio_to_entities, [tokenizer.tokenize(line) for line in lines_processed], y_true)]"
   ]
  },
  {
   "cell_type": "code",
   "execution_count": 165,
   "metadata": {},
   "outputs": [
    {
     "data": {
      "text/plain": [
       "[[('DIS', 'dec - 205'),\n",
       "  ('DIS', 'major histocompatibility complex class i'),\n",
       "  ('DIS', 'cd8')],\n",
       " [('DIS', 'major histocompatibility complex ( mhc ) class i'),\n",
       "  ('DIS', 'dec - 205')],\n",
       " [('DIS', 'ovalbumin'),\n",
       "  ('DIS', 'ova'),\n",
       "  ('DIS', '##de ##c -'),\n",
       "  ('DIS', 'by'),\n",
       "  ('DIS', 'by'),\n",
       "  ('DIS', 'to'),\n",
       "  ('DIS', ','),\n",
       "  ('DIS', 'and')],\n",
       " [('DIS', 'ova'),\n",
       "  ('DIS', 'mhc class i'),\n",
       "  ('DIS', 'transporter of antigenic peptides'),\n",
       "  ('DIS', 'tap')],\n",
       " [('DIS', '##de ##c -'), ('DIS', ':'), ('DIS', ',')],\n",
       " [('DIS', 'ova'),\n",
       "  ('DIS', 'tcr'),\n",
       "  ('DIS', 'cd8'),\n",
       "  ('DIS', 'ova'),\n",
       "  ('DIS', 'tap')],\n",
       " [('DIS', '##de ##c -'), ('DIS', ':'), ('DIS', 'with')],\n",
       " [('DIS', 'cd40'), ('DIS', '##de ##c -'), ('DIS', ':')],\n",
       " [('DIS', 'cd8'),\n",
       "  ('DIS', '##cd'),\n",
       "  ('DIS', 'of interleukin'),\n",
       "  ('DIS', 'and interferon'),\n",
       "  ('DIS', 'to')],\n",
       " [('DIS', 'dec - 205'), ('DIS', 'mhc class i')]]"
      ]
     },
     "execution_count": 165,
     "metadata": {},
     "output_type": "execute_result"
    }
   ],
   "source": [
    "y_true_ent[:10]"
   ]
  },
  {
   "cell_type": "code",
   "execution_count": 166,
   "metadata": {},
   "outputs": [
    {
     "data": {
      "text/plain": [
       "1128"
      ]
     },
     "execution_count": 166,
     "metadata": {},
     "output_type": "execute_result"
    }
   ],
   "source": [
    "y_preds_ent = [y for y in map(bio_to_entities, [tokenizer.tokenize(line) for line in lines_processed], y_preds)]\n",
    "len(y_preds_ent)"
   ]
  },
  {
   "cell_type": "code",
   "execution_count": 167,
   "metadata": {},
   "outputs": [
    {
     "data": {
      "text/plain": [
       "[[('GEN', 'dec - 205')],\n",
       " [('GEN', 'dcs'), ('GEN', 'mhc')],\n",
       " [('GEN', 'ova')],\n",
       " [],\n",
       " [('GEN', 'ova'), ('GEN', 'ova protein')],\n",
       " [('GEN', 'ova')],\n",
       " [('GEN', 'alpha ##de ##c - 205 :'), ('GEN', 'ova'), ('GEN', 'ova')],\n",
       " [('GEN', ','), ('GEN', ',')],\n",
       " [],\n",
       " [('GEN', 'dec - 205')]]"
      ]
     },
     "execution_count": 167,
     "metadata": {},
     "output_type": "execute_result"
    }
   ],
   "source": [
    "y_preds_ent[:10]"
   ]
  },
  {
   "cell_type": "code",
   "execution_count": 208,
   "metadata": {},
   "outputs": [
    {
     "name": "stdout",
     "output_type": "stream",
     "text": [
      "\n",
      " NER evaluation scores:\n",
      "  strict mode, Precision=0.0488, Recall=0.0488, F1:0.0488\n",
      "   exact mode, Precision=0.3791, Recall=0.2256, F1:0.2692\n",
      " partial mode, Precision=0.3810, Recall=0.2275, F1:0.2710\n",
      "    type mode, Precision=0.0488, Recall=0.0488, F1:0.0488\n"
     ]
    }
   ],
   "source": [
    "results = muc.evaluate_all(y_preds_ent, y_true_ent * 1, lines_processed, verbose=False)"
   ]
  },
  {
   "cell_type": "code",
   "execution_count": 209,
   "metadata": {},
   "outputs": [
    {
     "name": "stdout",
     "output_type": "stream",
     "text": [
      "\n",
      " NER evaluation scores:\n",
      "  strict mode, Precision=0.0488, Recall=0.0488, F1:0.0488\n",
      "   exact mode, Precision=0.3791, Recall=0.2256, F1:0.2692\n",
      " partial mode, Precision=0.3810, Recall=0.2275, F1:0.2710\n",
      "    type mode, Precision=0.0488, Recall=0.0488, F1:0.0488\n"
     ]
    }
   ],
   "source": [
    "print('\\n', 'NER evaluation scores:')\n",
    "for mode, res in results.items():\n",
    "    print(\"{:>8s} mode, Precision={:<6.4f}, Recall={:<6.4f}, F1:{:<6.4f}\"\n",
    "            .format(mode, res['precision'], res['recall'], res['f1_score']))"
   ]
  },
  {
   "cell_type": "code",
   "execution_count": 210,
   "metadata": {},
   "outputs": [],
   "source": [
    "df_result = pd.DataFrame(results).T"
   ]
  },
  {
   "cell_type": "code",
   "execution_count": 206,
   "metadata": {},
   "outputs": [
    {
     "data": {
      "text/html": [
       "<div>\n",
       "<style scoped>\n",
       "    .dataframe tbody tr th:only-of-type {\n",
       "        vertical-align: middle;\n",
       "    }\n",
       "\n",
       "    .dataframe tbody tr th {\n",
       "        vertical-align: top;\n",
       "    }\n",
       "\n",
       "    .dataframe thead th {\n",
       "        text-align: right;\n",
       "    }\n",
       "</style>\n",
       "<table border=\"1\" class=\"dataframe\">\n",
       "  <thead>\n",
       "    <tr style=\"text-align: right;\">\n",
       "      <th></th>\n",
       "      <th>precision</th>\n",
       "      <th>recall</th>\n",
       "      <th>f1_score</th>\n",
       "      <th>count</th>\n",
       "    </tr>\n",
       "  </thead>\n",
       "  <tbody>\n",
       "    <tr>\n",
       "      <th>strict</th>\n",
       "      <td>25.283</td>\n",
       "      <td>21.417</td>\n",
       "      <td>22.170</td>\n",
       "      <td>940</td>\n",
       "    </tr>\n",
       "    <tr>\n",
       "      <th>exact</th>\n",
       "      <td>25.283</td>\n",
       "      <td>21.417</td>\n",
       "      <td>22.170</td>\n",
       "      <td>940</td>\n",
       "    </tr>\n",
       "    <tr>\n",
       "      <th>partial</th>\n",
       "      <td>25.949</td>\n",
       "      <td>22.121</td>\n",
       "      <td>22.801</td>\n",
       "      <td>940</td>\n",
       "    </tr>\n",
       "    <tr>\n",
       "      <th>type</th>\n",
       "      <td>26.615</td>\n",
       "      <td>22.825</td>\n",
       "      <td>23.433</td>\n",
       "      <td>940</td>\n",
       "    </tr>\n",
       "  </tbody>\n",
       "</table>\n",
       "</div>"
      ],
      "text/plain": [
       "         precision  recall  f1_score  count\n",
       "strict      25.283  21.417    22.170    940\n",
       "exact       25.283  21.417    22.170    940\n",
       "partial     25.949  22.121    22.801    940\n",
       "type        26.615  22.825    23.433    940"
      ]
     },
     "execution_count": 206,
     "metadata": {},
     "output_type": "execute_result"
    }
   ],
   "source": [
    "df_result.iloc[:,:3] = round(df_result.iloc[:,:3]*100,3)\n",
    "df_result['count'] = df_result['count'].astype(int)\n",
    "df_result"
   ]
  },
  {
   "cell_type": "code",
   "execution_count": 187,
   "metadata": {},
   "outputs": [],
   "source": [
    "df_result.to_csv(preds_filepath[:-13] + 'muc.csv')"
   ]
  },
  {
   "cell_type": "code",
   "execution_count": null,
   "metadata": {},
   "outputs": [],
   "source": []
  }
 ],
 "metadata": {
  "kernelspec": {
   "display_name": "base",
   "language": "python",
   "name": "python3"
  },
  "language_info": {
   "codemirror_mode": {
    "name": "ipython",
    "version": 3
   },
   "file_extension": ".py",
   "mimetype": "text/x-python",
   "name": "python",
   "nbconvert_exporter": "python",
   "pygments_lexer": "ipython3",
   "version": "3.10.10"
  }
 },
 "nbformat": 4,
 "nbformat_minor": 2
}
